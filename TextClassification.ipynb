{
  "nbformat": 4,
  "nbformat_minor": 0,
  "metadata": {
    "colab": {
      "name": "Untitled23.ipynb",
      "provenance": [],
      "authorship_tag": "ABX9TyMrIUCZFUqtIV6NT+KAmdB6",
      "include_colab_link": true
    },
    "kernelspec": {
      "name": "python3",
      "display_name": "Python 3"
    },
    "language_info": {
      "name": "python"
    }
  },
  "cells": [
    {
      "cell_type": "markdown",
      "metadata": {
        "id": "view-in-github",
        "colab_type": "text"
      },
      "source": [
        "<a href=\"https://colab.research.google.com/github/Navya-amarneni/keras_learning/blob/main/TextClassification.ipynb\" target=\"_parent\"><img src=\"https://colab.research.google.com/assets/colab-badge.svg\" alt=\"Open In Colab\"/></a>"
      ]
    },
    {
      "cell_type": "code",
      "metadata": {
        "id": "sFA9J_q9_s7z"
      },
      "source": [
        "import pandas as pd"
      ],
      "execution_count": 42,
      "outputs": []
    },
    {
      "cell_type": "code",
      "metadata": {
        "id": "q2hQgvTJAUsf"
      },
      "source": [
        "dataset = {\n",
        "    'yelp': 'yelp_labelled.txt',\n",
        "    'amazon': 'amazon_cells_labelled.txt',\n",
        "    'imdb' : 'imdb_labelled.txt'\n",
        "}"
      ],
      "execution_count": 43,
      "outputs": []
    },
    {
      "cell_type": "code",
      "metadata": {
        "id": "NH_WfUYUAo0l"
      },
      "source": [
        "df_list=[]\n",
        "\n",
        "for source,filepath in dataset.items():\n",
        "  df=pd.read_csv(filepath,names=['sentences','review'],sep='\\t')\n",
        "  df['source']=source\n",
        "  df_list.append(df)"
      ],
      "execution_count": 44,
      "outputs": []
    },
    {
      "cell_type": "code",
      "metadata": {
        "colab": {
          "base_uri": "https://localhost:8080/",
          "height": 414
        },
        "id": "GSnm-i-XBQov",
        "outputId": "b019e2f0-f847-4b85-f998-43d78cd07c91"
      },
      "source": [
        "df=pd.concat(df_list)\n",
        "df"
      ],
      "execution_count": 45,
      "outputs": [
        {
          "output_type": "execute_result",
          "data": {
            "text/html": [
              "<div>\n",
              "<style scoped>\n",
              "    .dataframe tbody tr th:only-of-type {\n",
              "        vertical-align: middle;\n",
              "    }\n",
              "\n",
              "    .dataframe tbody tr th {\n",
              "        vertical-align: top;\n",
              "    }\n",
              "\n",
              "    .dataframe thead th {\n",
              "        text-align: right;\n",
              "    }\n",
              "</style>\n",
              "<table border=\"1\" class=\"dataframe\">\n",
              "  <thead>\n",
              "    <tr style=\"text-align: right;\">\n",
              "      <th></th>\n",
              "      <th>sentences</th>\n",
              "      <th>review</th>\n",
              "      <th>source</th>\n",
              "    </tr>\n",
              "  </thead>\n",
              "  <tbody>\n",
              "    <tr>\n",
              "      <th>0</th>\n",
              "      <td>Wow... Loved this place.</td>\n",
              "      <td>1</td>\n",
              "      <td>yelp</td>\n",
              "    </tr>\n",
              "    <tr>\n",
              "      <th>1</th>\n",
              "      <td>Crust is not good.</td>\n",
              "      <td>0</td>\n",
              "      <td>yelp</td>\n",
              "    </tr>\n",
              "    <tr>\n",
              "      <th>2</th>\n",
              "      <td>Not tasty and the texture was just nasty.</td>\n",
              "      <td>0</td>\n",
              "      <td>yelp</td>\n",
              "    </tr>\n",
              "    <tr>\n",
              "      <th>3</th>\n",
              "      <td>Stopped by during the late May bank holiday of...</td>\n",
              "      <td>1</td>\n",
              "      <td>yelp</td>\n",
              "    </tr>\n",
              "    <tr>\n",
              "      <th>4</th>\n",
              "      <td>The selection on the menu was great and so wer...</td>\n",
              "      <td>1</td>\n",
              "      <td>yelp</td>\n",
              "    </tr>\n",
              "    <tr>\n",
              "      <th>...</th>\n",
              "      <td>...</td>\n",
              "      <td>...</td>\n",
              "      <td>...</td>\n",
              "    </tr>\n",
              "    <tr>\n",
              "      <th>743</th>\n",
              "      <td>I just got bored watching Jessice Lange take h...</td>\n",
              "      <td>0</td>\n",
              "      <td>imdb</td>\n",
              "    </tr>\n",
              "    <tr>\n",
              "      <th>744</th>\n",
              "      <td>Unfortunately, any virtue in this film's produ...</td>\n",
              "      <td>0</td>\n",
              "      <td>imdb</td>\n",
              "    </tr>\n",
              "    <tr>\n",
              "      <th>745</th>\n",
              "      <td>In a word, it is embarrassing.</td>\n",
              "      <td>0</td>\n",
              "      <td>imdb</td>\n",
              "    </tr>\n",
              "    <tr>\n",
              "      <th>746</th>\n",
              "      <td>Exceptionally bad!</td>\n",
              "      <td>0</td>\n",
              "      <td>imdb</td>\n",
              "    </tr>\n",
              "    <tr>\n",
              "      <th>747</th>\n",
              "      <td>All in all its an insult to one's intelligence...</td>\n",
              "      <td>0</td>\n",
              "      <td>imdb</td>\n",
              "    </tr>\n",
              "  </tbody>\n",
              "</table>\n",
              "<p>2748 rows × 3 columns</p>\n",
              "</div>"
            ],
            "text/plain": [
              "                                             sentences  review source\n",
              "0                             Wow... Loved this place.       1   yelp\n",
              "1                                   Crust is not good.       0   yelp\n",
              "2            Not tasty and the texture was just nasty.       0   yelp\n",
              "3    Stopped by during the late May bank holiday of...       1   yelp\n",
              "4    The selection on the menu was great and so wer...       1   yelp\n",
              "..                                                 ...     ...    ...\n",
              "743  I just got bored watching Jessice Lange take h...       0   imdb\n",
              "744  Unfortunately, any virtue in this film's produ...       0   imdb\n",
              "745                   In a word, it is embarrassing.         0   imdb\n",
              "746                               Exceptionally bad!         0   imdb\n",
              "747  All in all its an insult to one's intelligence...       0   imdb\n",
              "\n",
              "[2748 rows x 3 columns]"
            ]
          },
          "metadata": {},
          "execution_count": 45
        }
      ]
    },
    {
      "cell_type": "code",
      "metadata": {
        "id": "srrUueL_G8Mz"
      },
      "source": [
        "from sklearn.feature_extraction.text import CountVectorizer\n",
        "from sklearn.linear_model import LogisticRegression\n",
        "\n",
        "sentences=df['sentences'].values\n",
        "labels=df['review'].values"
      ],
      "execution_count": 46,
      "outputs": []
    },
    {
      "cell_type": "code",
      "metadata": {
        "id": "ncwrDqeuHTXU"
      },
      "source": [
        "from sklearn.model_selection import train_test_split\n",
        "sent_train,sent_test,labels_train,labels_test=train_test_split(sentences,labels,test_size=0.20,random_state=1000)\n"
      ],
      "execution_count": 47,
      "outputs": []
    },
    {
      "cell_type": "code",
      "metadata": {
        "colab": {
          "base_uri": "https://localhost:8080/"
        },
        "id": "B1iQtM49Kivy",
        "outputId": "8d7c5a40-2b51-4444-aa52-2c38ac019387"
      },
      "source": [
        "print(sent_train.shape)"
      ],
      "execution_count": 48,
      "outputs": [
        {
          "output_type": "stream",
          "name": "stdout",
          "text": [
            "(2198,)\n"
          ]
        }
      ]
    },
    {
      "cell_type": "code",
      "metadata": {
        "id": "QgKK-vjyJ-S-"
      },
      "source": [
        "vectorizer= CountVectorizer()\n",
        "vectorizer.fit(sent_train)\n",
        "\n",
        "sent_train = vectorizer.transform(sent_train)\n",
        "sent_test = vectorizer.transform(sent_test)\n"
      ],
      "execution_count": 49,
      "outputs": []
    },
    {
      "cell_type": "code",
      "metadata": {
        "colab": {
          "base_uri": "https://localhost:8080/"
        },
        "id": "Hz9dGy64It-b",
        "outputId": "0b62989f-b643-4808-ea34-cb33a83e7703"
      },
      "source": [
        "print(sent_train.shape)"
      ],
      "execution_count": 50,
      "outputs": [
        {
          "output_type": "stream",
          "name": "stdout",
          "text": [
            "(2198, 4642)\n"
          ]
        }
      ]
    },
    {
      "cell_type": "code",
      "metadata": {
        "colab": {
          "base_uri": "https://localhost:8080/"
        },
        "id": "a8ZmNuNBIV2u",
        "outputId": "b21d2424-251f-4d9c-f016-82603bbb68b0"
      },
      "source": [
        "model = LogisticRegression()\n",
        "model.fit(sent_train,labels_train)\n",
        "score=model.score(sent_test,labels_test)\n",
        "print(score)"
      ],
      "execution_count": 51,
      "outputs": [
        {
          "output_type": "stream",
          "name": "stdout",
          "text": [
            "0.82\n"
          ]
        }
      ]
    },
    {
      "cell_type": "code",
      "metadata": {
        "id": "1S8m_ZV-Knoc"
      },
      "source": [
        ""
      ],
      "execution_count": null,
      "outputs": []
    }
  ]
}